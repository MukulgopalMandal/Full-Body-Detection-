{
 "cells": [
  {
   "cell_type": "code",
   "execution_count": 3,
   "id": "f3d6eeab-efd3-493b-bd72-bbf2447d3547",
   "metadata": {},
   "outputs": [],
   "source": [
    "import cv2"
   ]
  },
  {
   "cell_type": "code",
   "execution_count": 4,
   "id": "3d547337-de76-4d6e-9cfd-9e9214cf4dd2",
   "metadata": {},
   "outputs": [],
   "source": [
    "face_cap = cv2.CascadeClassifier(\"C:/Users/KIIT/Desktop/jupyter projects/opencv/haarcascades/haarcascade_frontalface_default.xml\")\n",
    "if face_cap.empty():\n",
    "    print(\"Failed to load face cascade.\")\n",
    "upperbody_cap = cv2.CascadeClassifier(\"C:/Users/KIIT/Desktop/jupyter projects/opencv/haarcascades/haarcascade_upperbody.xml\")\n",
    "if upperbody_cap.empty():\n",
    "    print(\"Error loading upper body cascade\")\n",
    "lowerbody_cap = cv2.CascadeClassifier(\"C:/Users/KIIT/Desktop/jupyter projects/opencv/haarcascades/haarcascade_lowerbody.xml\")\n",
    "if lowerbody_cap.empty():\n",
    "    print(\"Error loading lower body cascade\")\n",
    "\n",
    "video_cap = cv2.VideoCapture(0)\n",
    "\n",
    "cv2.namedWindow(\"video_live\", cv2.WND_PROP_FULLSCREEN)\n",
    "cv2.setWindowProperty(\"video_live\", cv2.WND_PROP_FULLSCREEN, cv2.WINDOW_FULLSCREEN)\n",
    "\n",
    "while True :\n",
    "    ret , video_data = video_cap.read()\n",
    "    col = cv2.cvtColor(video_data, cv2.COLOR_BGR2GRAY)\n",
    "\n",
    "    \n",
    "    faces = face_cap.detectMultiScale(\n",
    "        col,\n",
    "        scaleFactor = 1.1,\n",
    "        minNeighbors = 5,\n",
    "        minSize = (70, 70),\n",
    "        flags = cv2.CASCADE_SCALE_IMAGE\n",
    "    )\n",
    "\n",
    "    upperbodies = upperbody_cap.detectMultiScale(\n",
    "        col,\n",
    "        scaleFactor = 1.1,\n",
    "        minNeighbors = 5,\n",
    "        minSize = (70, 70),\n",
    "        flags = cv2.CASCADE_SCALE_IMAGE\n",
    "    )\n",
    "\n",
    "    lowerbodies = lowerbody_cap.detectMultiScale(\n",
    "        col,\n",
    "        scaleFactor = 1.1,\n",
    "        minNeighbors = 5,\n",
    "        minSize = (70, 70),\n",
    "        flags = cv2.CASCADE_SCALE_IMAGE\n",
    "    )\n",
    "    for (x, y, w, h) in faces : \n",
    "        cv2.rectangle(video_data, (x, y), (x+w,y+h), (0,0,255), 2)\n",
    "    for (x, y, w, h) in upperbodies:\n",
    "        cv2.rectangle(video_data, (x, y), (x+w, y+h), (0, 255, 0), 2)\n",
    "    for (x, y, w, h) in lowerbodies:\n",
    "        cv2.rectangle(video_data, (x, y), (x+w, y+h), (255, 0, 0), 2)\n",
    "\n",
    "\n",
    "    cv2.imshow(\"video_live\",video_data)\n",
    "    if cv2.waitKey(10) == ord(\"a\"):\n",
    "        break\n",
    "video_cap.release() \n",
    "\n",
    "    "
   ]
  },
  {
   "cell_type": "code",
   "execution_count": null,
   "id": "9ae71f6a-8647-46f4-9bbb-b9480527e207",
   "metadata": {},
   "outputs": [],
   "source": []
  }
 ],
 "metadata": {
  "kernelspec": {
   "display_name": "Python 3 (ipykernel)",
   "language": "python",
   "name": "python3"
  },
  "language_info": {
   "codemirror_mode": {
    "name": "ipython",
    "version": 3
   },
   "file_extension": ".py",
   "mimetype": "text/x-python",
   "name": "python",
   "nbconvert_exporter": "python",
   "pygments_lexer": "ipython3",
   "version": "3.12.1"
  }
 },
 "nbformat": 4,
 "nbformat_minor": 5
}
